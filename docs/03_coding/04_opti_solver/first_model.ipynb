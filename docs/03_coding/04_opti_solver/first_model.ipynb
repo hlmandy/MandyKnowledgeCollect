{
 "cells": [
  {
   "attachments": {},
   "cell_type": "markdown",
   "metadata": {},
   "source": [
    "**Problem**\n",
    "\n",
    "Maximize\n",
    "\n",
    "obj: $x_1 + 2 x_2 + 3 x_3$\n",
    "\n",
    "s.t.\n",
    "\n",
    "c1: $-x_1 +x_2+x_3 \\le 20$\n",
    "\n",
    "c2: $x_1-3x_2+x_3 \\le 30$\n",
    "\n",
    "bounds:\n",
    "\n",
    "$0\\le x_1 \\le 40$\n",
    "\n",
    "$x_2,x_3 \\ge 0$"
   ]
  },
  {
   "cell_type": "code",
   "execution_count": 1,
   "metadata": {},
   "outputs": [],
   "source": [
    "import cplex"
   ]
  },
  {
   "attachments": {},
   "cell_type": "markdown",
   "metadata": {},
   "source": [
    "## 按行建模"
   ]
  },
  {
   "cell_type": "code",
   "execution_count": 3,
   "metadata": {},
   "outputs": [],
   "source": [
    "prob = cplex.Cplex()"
   ]
  },
  {
   "cell_type": "code",
   "execution_count": 4,
   "metadata": {},
   "outputs": [],
   "source": [
    "prob.objective.set_sense(prob.objective.sense.maximize)"
   ]
  },
  {
   "cell_type": "code",
   "execution_count": 5,
   "metadata": {},
   "outputs": [],
   "source": [
    "obj = [1.0,2.0,3.0]\n",
    "ub = [40.0,cplex.infinity, cplex.infinity]\n",
    "varnames = ['X1','X2','X3']"
   ]
  },
  {
   "cell_type": "code",
   "execution_count": 6,
   "metadata": {},
   "outputs": [
    {
     "data": {
      "text/plain": [
       "range(0, 3)"
      ]
     },
     "execution_count": 6,
     "metadata": {},
     "output_type": "execute_result"
    }
   ],
   "source": [
    "prob.variables.add(obj=obj, ub=ub, names=varnames)"
   ]
  },
  {
   "cell_type": "code",
   "execution_count": 7,
   "metadata": {},
   "outputs": [
    {
     "data": {
      "text/plain": [
       "[0.0, 0.0, 0.0]"
      ]
     },
     "execution_count": 7,
     "metadata": {},
     "output_type": "execute_result"
    }
   ],
   "source": [
    "prob.variables.get_lower_bounds()"
   ]
  },
  {
   "cell_type": "code",
   "execution_count": 8,
   "metadata": {},
   "outputs": [
    {
     "data": {
      "text/plain": [
       "[40.0, 1e+20, 1e+20]"
      ]
     },
     "execution_count": 8,
     "metadata": {},
     "output_type": "execute_result"
    }
   ],
   "source": [
    "prob.variables.get_upper_bounds()"
   ]
  },
  {
   "cell_type": "code",
   "execution_count": 9,
   "metadata": {},
   "outputs": [
    {
     "data": {
      "text/plain": [
       "['X1', 'X2', 'X3']"
      ]
     },
     "execution_count": 9,
     "metadata": {},
     "output_type": "execute_result"
    }
   ],
   "source": [
    "prob.variables.get_names()"
   ]
  },
  {
   "cell_type": "code",
   "execution_count": 10,
   "metadata": {},
   "outputs": [],
   "source": [
    "senses =\"LL\"\n",
    "rhs =[20.0,30.0]\n",
    "rownames = [\"c1\",\"c2\"]\n",
    "rows = [\n",
    "    [[\"X1\",\"X2\",\"X3\"],[-1.0,1.0,1.0]],\n",
    "    [[\"X1\",\"X2\",\"X3\"],[1.0,-3.0,1.0]]\n",
    "    ]"
   ]
  },
  {
   "cell_type": "code",
   "execution_count": 11,
   "metadata": {},
   "outputs": [
    {
     "data": {
      "text/plain": [
       "range(0, 2)"
      ]
     },
     "execution_count": 11,
     "metadata": {},
     "output_type": "execute_result"
    }
   ],
   "source": [
    "prob.linear_constraints.add(lin_expr=rows, senses=senses, rhs=rhs, names=rownames)"
   ]
  },
  {
   "cell_type": "code",
   "execution_count": 12,
   "metadata": {},
   "outputs": [
    {
     "name": "stdout",
     "output_type": "stream",
     "text": [
      "CPXPARAM_Read_DataCheck                          1\n",
      "Tried aggregator 1 time.\n",
      "No LP presolve or aggregator reductions.\n",
      "Presolve time = 0.02 sec. (0.00 ticks)\n",
      "\n",
      "Iteration log . . .\n",
      "Iteration:     1   Dual infeasibility =             0.000000\n",
      "Iteration:     2   Dual objective     =           202.500000\n"
     ]
    }
   ],
   "source": [
    "prob.solve()"
   ]
  },
  {
   "attachments": {},
   "cell_type": "markdown",
   "metadata": {},
   "source": [
    "## 按列建模"
   ]
  },
  {
   "cell_type": "code",
   "execution_count": 13,
   "metadata": {},
   "outputs": [],
   "source": [
    "prob = cplex.Cplex()"
   ]
  },
  {
   "cell_type": "code",
   "execution_count": 14,
   "metadata": {},
   "outputs": [],
   "source": [
    "prob.objective.set_sense(prob.objective.sense.maximize)"
   ]
  },
  {
   "cell_type": "code",
   "execution_count": 16,
   "metadata": {},
   "outputs": [],
   "source": [
    "rhs = [20.0,30.0]\n",
    "senses = \"LL\"\n",
    "rownames = [\"c1\",\"c2\"]"
   ]
  },
  {
   "cell_type": "code",
   "execution_count": 17,
   "metadata": {},
   "outputs": [
    {
     "data": {
      "text/plain": [
       "range(0, 2)"
      ]
     },
     "execution_count": 17,
     "metadata": {},
     "output_type": "execute_result"
    }
   ],
   "source": [
    "prob.linear_constraints.add(rhs=rhs, senses=senses, names=rownames)"
   ]
  },
  {
   "cell_type": "code",
   "execution_count": 18,
   "metadata": {},
   "outputs": [],
   "source": [
    "obj = [1.0,2.0,3.0]\n",
    "ub = [40.0,cplex.infinity, cplex.infinity]\n",
    "varnames = ['X1','X2','X3']\n",
    "cols = [\n",
    "    [[\"c1\",\"c2\"],[-1.0,1.0]],\n",
    "    [[\"c1\",\"c2\"],[1.0,-3.0]],\n",
    "    [[\"c1\",\"c2\"],[1.0,1.0]]\n",
    "    ]"
   ]
  },
  {
   "cell_type": "code",
   "execution_count": 19,
   "metadata": {},
   "outputs": [
    {
     "data": {
      "text/plain": [
       "range(0, 3)"
      ]
     },
     "execution_count": 19,
     "metadata": {},
     "output_type": "execute_result"
    }
   ],
   "source": [
    "prob.variables.add(obj=obj, ub=ub, names=varnames, columns=cols)"
   ]
  },
  {
   "cell_type": "code",
   "execution_count": 20,
   "metadata": {},
   "outputs": [
    {
     "name": "stdout",
     "output_type": "stream",
     "text": [
      "CPXPARAM_Read_DataCheck                          1\n",
      "Tried aggregator 1 time.\n",
      "No LP presolve or aggregator reductions.\n",
      "Presolve time = 0.00 sec. (0.00 ticks)\n",
      "\n",
      "Iteration log . . .\n",
      "Iteration:     1   Dual infeasibility =             0.000000\n",
      "Iteration:     2   Dual objective     =           202.500000\n"
     ]
    }
   ],
   "source": [
    "prob.solve()"
   ]
  }
 ],
 "metadata": {
  "kernelspec": {
   "display_name": "Python 3",
   "language": "python",
   "name": "python3"
  },
  "language_info": {
   "codemirror_mode": {
    "name": "ipython",
    "version": 3
   },
   "file_extension": ".py",
   "mimetype": "text/x-python",
   "name": "python",
   "nbconvert_exporter": "python",
   "pygments_lexer": "ipython3",
   "version": "3.7.9"
  },
  "orig_nbformat": 4,
  "vscode": {
   "interpreter": {
    "hash": "e9f36bba7ec48172ad0161c0261f992725657dd897f67365e52fad1b6ad43264"
   }
  }
 },
 "nbformat": 4,
 "nbformat_minor": 2
}
